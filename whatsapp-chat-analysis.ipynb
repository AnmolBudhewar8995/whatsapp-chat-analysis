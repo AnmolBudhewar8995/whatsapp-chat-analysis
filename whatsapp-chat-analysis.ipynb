{
 "cells": [
  {
   "cell_type": "code",
   "execution_count": 2,
   "metadata": {},
   "outputs": [],
   "source": [
    "import re\n",
    "import pandas as pd"
   ]
  },
  {
   "cell_type": "code",
   "execution_count": 6,
   "metadata": {},
   "outputs": [],
   "source": [
    "f= open('inputfile.txt','r',encoding='utf-8')"
   ]
  },
  {
   "cell_type": "code",
   "execution_count": 7,
   "metadata": {},
   "outputs": [],
   "source": [
    "data=f.read()"
   ]
  },
  {
   "cell_type": "code",
   "execution_count": 8,
   "metadata": {},
   "outputs": [
    {
     "name": "stdout",
     "output_type": "stream",
     "text": [
      "8/25/23, 19:33 - Messages and calls are end-to-end encrypted. No one outside of this chat, not even WhatsApp, can read or listen to them. Tap to learn more.\n",
      "8/8/23, 15:58 - Jain Internet Services created group \"Jain Internet Services Customer's Gruop\"\n",
      "8/25/23, 19:33 - Jain Internet Services added you\n",
      "8/25/23, 19:56 - Jain Internet Services added +91 97686 86859\n",
      "8/25/23, 19:57 - Jain Internet Services added +91 96733 85550\n",
      "9/15/23, 10:46 - Jain Internet Services: FULE MARKET SE LEKAR Y POINT TAK LINE BAND HAI PLZ CO-OPORATE KAM CHALU HAI CHALU HO JAYEGI....🙏 <This message was edited>\n",
      "9/15/23, 11:08 - Jain Internet Services: LINE CHALU HO GAYI PLZ CHECK🙏\n",
      "9/16/23, 15:52 - Jain Internet Services: BHAUSAR CHOWK KI LINE BAND HAI THODA TIME LGEGA CHALU HO JAYEGI\n",
      "9/16/23, 18:06 - Jain Internet Services: BHAUSAR CHOWK,MALEGAON ROAD , CHATRAPTI CHOWK , BAJAJ NAGAR, CANAL ROAD,DEEP KI LINE WORKSHOP CORNER,  ALL LINE CHALU HO GAYI. <This message was edited>\n",
      "9/16/23, 20:03 - Jain Saheb Bharat Fiber: Okay 👍👍👍\n",
      "9/17/23, 18:38 - Jain Internet Services: NEW MONDHA,NAMSKARCHOWK ,SINDHI COLONY,BAFNA,KANTHA,HANUMAN GAD FIBER BREAK HUI HAI TECHNICIAN LINE PE HAI CHECK KAR RAHE HAI . CHALU HO JAYEGI. <This message was edited>\n",
      "9/18/23, 15:46 - +91 94221 73095 added +91 74996 09073\n",
      "9/18/23, 15:46 - +91 94221 73095 added +91 77220 50658\n",
      "9/18/23, 15:46 - +91 94221 73095 added +91 91757 73508\n",
      "9/18/23, 15:46 - +91 94221 73095 added +91 94204 32786\n",
      "9/18/23, 15:46 - +91 94221 73095 added +91 94221 49789\n",
      "9/18/23, 15:46 - +91 94221 73095 added +91 95453 44540\n",
      "9/18/23, 15:46 - +91 94221 73095 added +91 97649 21717\n",
      "9/18/23, 15:46 - +91 94221 73095 added +91 97664 16991\n",
      "9/18/23, 15:46 - +91 94221 73095 added +91 98504 08860\n",
      "9/18/23, 15:53 - This group has over 256 participants so now only admins can edit the group settings.\n",
      "9/18/23, 15:53 - Jain Internet Services added +91 6366 966 909, +91 70205 31453, +91 70575 59531, +91 70576 59520, +91 70589 15795, +91 72496 40073, +91 74149 23026, +91 74200 23738, +91 77209 73339, +91 77440 44143, +91 77458 90720, +91 77964 10769, +91 78410 29856, +91 78757 64967, +91 79720 52460, +91 80079 30492, +91 81423 65970, +91 81692 24216, +91 82083 42429, +91 83790 56029, +91 83808 43318, +91 84003 31934, +91 85301 66467, +91 86008 01777, +91 86248 73843, +91 88883 54844, +91 89830 67452, +91 90111 86186, +91 90199 60058, +91 90214 35940, +91 90218 28388, +91 90225 35175, +91 90499 70851, +91 90666 39066, +91 90960 80564, +91 91567 22023, +91 91581 34395, +91 91583 24870, +91 91588 85325, +91 91723 42332, +91 92257 57999, +91 92704 96546, +91 93098 44884, +91 93592 27834, +91 93702 81341, +91 93709 78151, +91 93738 10201, +91 94040 17999, +91 94047 07750, +91 94047 49656, +91 94059 14219, +91 94209 14400, +91 94217 64334, +91 94221 71345, +91 94221 89482, +91 94221 92100, +91 94230 40001, +91 94234 41315, +91 94234 41665, +91 94234 41813, +91 94239 69120, +91 95035 31895, +91 95112 70122, +91 96060 40871, +91 96572 69143, +91 96575 77172, +91 96897 07465, +91 98222 42020, +91 98227 93541, +91 98340 33089, +91 98344 12713, +91 98604 84161, +91 98607 37505, +91 98900 33006, +91 98905 99517, +91 98906 91021, +91 98909 04666, +91 99204 12017, +91 99210 99999, +91 99231 15501, +91 99602 85701, +91 99604 73549, and +91 99700 23253\n",
      "9/18/23, 15:59 - Jain Internet Services changed this group's icon\n",
      "9/18/23, 16:01 - Jain Internet Services added +91 93250 84880\n",
      "9/18/23, 22:36 - Jain Internet Services added +91 95118 38375\n",
      "9/19/23, 16:31 - +91 74149 23026 changed to +91 84828 79291\n",
      "9/20/23, 11:39 - Jain Internet Services: SARFA, HOLI, LINE BAND HAI CHALU HO JAYEGI PLZ Co-Operate\n",
      "9/20/23, 11:48 - Jain Internet Services: PADMJA CITY LINE BAND HAI  CHALU HO JAYEGI PLZ Co-Operate\n",
      "9/20/23, 12:23 - Jain Internet Services: BHAUSAR CHOWK,MALEGAON ROAD , CHATRAPTI CHOWK , BAJAJ NAGAR, CANAL ROAD,DEEP KI LINEWORKSHOP CORNER,  ALL LINE BAND HAI. CHALU HO JAYEGA PLZ  Co-Operate🙏\n",
      "9/20/23, 14:34 - Jain Internet Services: SANGVI CHAINTYNA NAGAR, ASNA , GOPAL NAGA, SANGVI LINE BAND HAI PLZ CO-OPERATE CHALU HO JAYEGI🙏 <This message was edited>\n",
      "9/26/23, 15:31 - Jain Internet Services: internet link down hai chalu hone me thda time lagega plz co-operate\n",
      "9/26/23, 15:47 - Jain Internet Services: chalu zal\n",
      "9/26/23, 15:55 - Jain Internet Services: Ucn Link up ho gayi please chack...\n",
      "9/29/23, 10:14 - Jain Internet Services: PADMJA CITY KI LINE BAND HAI.\n",
      "9/29/23, 10:37 - Jain Internet Services: kal Ganesh visarjan k kran fiber brek hui hai uske wajah se line band hai....chalu ho jaygi plz co-operate <This message was edited>\n",
      "9/29/23, 11:36 - Jain Internet Services added +91 70204 97576, +91 70669 02318, +91 72764 51956, +91 72765 72758, +91 75079 15576, +91 75585 59444, +91 75887 70973, +91 77198 13316, +91 77219 17190, +91 80873 02430, +91 84840 41385, +91 86230 95887, +91 86685 99494, +91 88303 40629, +91 88888 45640, +91 93097 19368, +91 93702 81341, +91 94048 89868, +91 94204 51839, +91 94221 73095, +91 94221 88484, +91 94224 30899, +91 94228 71365, +91 97661 99806, +91 97662 63336, +91 98233 77706, +91 98238 81328, +91 98813 65753, +91 99210 43000, and +91 99308 70044\n",
      "9/29/23, 13:13 - Jain Internet Services added +91 88303 15321\n",
      "9/29/23, 14:15 - Jain Internet Services added +91 99709 94466\n",
      "10/1/23, 14:54 - Jain Internet Services removed +91 94204 32786\n",
      "10/1/23, 15:10 - Jain Internet Services removed +91 77220 50658\n",
      "10/1/23, 15:16 - Jain Internet Services removed +91 74996 09073\n",
      "10/1/23, 15:16 - Jain Internet Services removed +91 94221 49789\n",
      "10/3/23, 13:44 - Jain Internet Services: ANAND NAGAR, BHAGYA NAGAR,GOPAL NAGAR,CHAITNYA NAGAR,BHAUSAR CHOWK,CANAL ROAD, LINE BAND HAI. CAHU HO JAYEGI PLZ-COPERATE 🙏🙏 <This message was edited>\n",
      "10/3/23, 17:09 - Jain Saheb Bharat Fiber removed +91 98901 46019\n",
      "10/3/23, 17:10 - Jain Saheb Bharat Fiber removed +91 91757 73508\n",
      "10/3/23, 17:13 - Jain Saheb Bharat Fiber removed +91 98504 08860\n",
      "10/3/23, 17:17 - Jain Saheb Bharat Fiber removed +91 88883 54844\n",
      "10/5/23, 11:05 - Jain Internet Services: ANAND NAGAR, BHAGYA NAGAR, PORNIMA NAGAR,CANAL ROAD, CHAITNYA NAGAR,DE MART,MALEGAON ROAD BHAUSAR CHOWK, WORKSHOP,  LINE  BAND HAI. CHALU Hone ,me time lagega but ho jayega PLZ -CO OPRATE\n",
      "10/31/23, 12:29 - Jain Internet Services: SANGAVI, BHAUSAR CHOWK, MALEGAON ROAD,CANAL ROAD,D-MART, LINE BNAD HAI. PLZ CO-OPERATE <This message was edited>\n",
      "10/31/23, 14:03 - +91 88889 07062: Please check now....\n",
      "10/31/23, 14:42 - Jain Internet Services: padmja city line band hai plz co-operate\n",
      "10/31/23, 16:46 - +91 88889 07062: Please check internet...\n",
      "11/13/23, 12:23 - Jain Internet Services: This message was deleted\n",
      "11/13/23, 12:26 - Jain Internet Services: <Media omitted>\n",
      "11/14/23, 11:21 - Jain Internet Services: VAZIRABAD SE LEKAR KAUTHA, LATUR FATA, CIDCO-HUDCO ,TAK LINE BAND HAI PLZ CO-OPERATE🙏\n",
      "11/14/23, 11:23 - +91 79727 57472: Bridge par wire jal gaya \n",
      "Change kare wo log \n",
      "\n",
      "1 hour lagenga \n",
      "\n",
      "Please\n",
      "11/14/23, 12:15 - +91 79727 57472: Please check line is OK now\n",
      "\n",
      "Cidco, Hadco, Latur Fata, Kautha\n",
      "\n"
     ]
    }
   ],
   "source": [
    "print(data)"
   ]
  },
  {
   "cell_type": "code",
   "execution_count": 9,
   "metadata": {},
   "outputs": [],
   "source": [
    "pattern = '\\d{1,2}/\\d{1,2}/\\d{2,4},\\s\\d{1,2}:\\d{2}\\s-\\s'\n"
   ]
  },
  {
   "cell_type": "code",
   "execution_count": 10,
   "metadata": {},
   "outputs": [
    {
     "data": {
      "text/plain": [
       "57"
      ]
     },
     "execution_count": 10,
     "metadata": {},
     "output_type": "execute_result"
    }
   ],
   "source": [
    "messages = re.split(pattern, data)[1:]\n",
    "len(messages)"
   ]
  },
  {
   "cell_type": "code",
   "execution_count": 12,
   "metadata": {},
   "outputs": [
    {
     "data": {
      "text/plain": [
       "['Messages and calls are end-to-end encrypted. No one outside of this chat, not even WhatsApp, can read or listen to them. Tap to learn more.\\n',\n",
       " 'Jain Internet Services created group \"Jain Internet Services Customer\\'s Gruop\"\\n',\n",
       " 'Jain Internet Services added you\\n',\n",
       " 'Jain Internet Services added +91 97686 86859\\n',\n",
       " 'Jain Internet Services added +91 96733 85550\\n',\n",
       " 'Jain Internet Services: FULE MARKET SE LEKAR Y POINT TAK LINE BAND HAI PLZ CO-OPORATE KAM CHALU HAI CHALU HO JAYEGI....🙏 <This message was edited>\\n',\n",
       " 'Jain Internet Services: LINE CHALU HO GAYI PLZ CHECK🙏\\n',\n",
       " 'Jain Internet Services: BHAUSAR CHOWK KI LINE BAND HAI THODA TIME LGEGA CHALU HO JAYEGI\\n',\n",
       " 'Jain Internet Services: BHAUSAR CHOWK,MALEGAON ROAD , CHATRAPTI CHOWK , BAJAJ NAGAR, CANAL ROAD,DEEP KI LINE WORKSHOP CORNER,  ALL LINE CHALU HO GAYI. <This message was edited>\\n',\n",
       " 'Jain Saheb Bharat Fiber: Okay 👍👍👍\\n',\n",
       " 'Jain Internet Services: NEW MONDHA,NAMSKARCHOWK ,SINDHI COLONY,BAFNA,KANTHA,HANUMAN GAD FIBER BREAK HUI HAI TECHNICIAN LINE PE HAI CHECK KAR RAHE HAI . CHALU HO JAYEGI. <This message was edited>\\n',\n",
       " '+91 94221 73095 added +91 74996 09073\\n',\n",
       " '+91 94221 73095 added +91 77220 50658\\n',\n",
       " '+91 94221 73095 added +91 91757 73508\\n',\n",
       " '+91 94221 73095 added +91 94204 32786\\n',\n",
       " '+91 94221 73095 added +91 94221 49789\\n',\n",
       " '+91 94221 73095 added +91 95453 44540\\n',\n",
       " '+91 94221 73095 added +91 97649 21717\\n',\n",
       " '+91 94221 73095 added +91 97664 16991\\n',\n",
       " '+91 94221 73095 added +91 98504 08860\\n',\n",
       " 'This group has over 256 participants so now only admins can edit the group settings.\\n',\n",
       " 'Jain Internet Services added +91 6366 966 909, +91 70205 31453, +91 70575 59531, +91 70576 59520, +91 70589 15795, +91 72496 40073, +91 74149 23026, +91 74200 23738, +91 77209 73339, +91 77440 44143, +91 77458 90720, +91 77964 10769, +91 78410 29856, +91 78757 64967, +91 79720 52460, +91 80079 30492, +91 81423 65970, +91 81692 24216, +91 82083 42429, +91 83790 56029, +91 83808 43318, +91 84003 31934, +91 85301 66467, +91 86008 01777, +91 86248 73843, +91 88883 54844, +91 89830 67452, +91 90111 86186, +91 90199 60058, +91 90214 35940, +91 90218 28388, +91 90225 35175, +91 90499 70851, +91 90666 39066, +91 90960 80564, +91 91567 22023, +91 91581 34395, +91 91583 24870, +91 91588 85325, +91 91723 42332, +91 92257 57999, +91 92704 96546, +91 93098 44884, +91 93592 27834, +91 93702 81341, +91 93709 78151, +91 93738 10201, +91 94040 17999, +91 94047 07750, +91 94047 49656, +91 94059 14219, +91 94209 14400, +91 94217 64334, +91 94221 71345, +91 94221 89482, +91 94221 92100, +91 94230 40001, +91 94234 41315, +91 94234 41665, +91 94234 41813, +91 94239 69120, +91 95035 31895, +91 95112 70122, +91 96060 40871, +91 96572 69143, +91 96575 77172, +91 96897 07465, +91 98222 42020, +91 98227 93541, +91 98340 33089, +91 98344 12713, +91 98604 84161, +91 98607 37505, +91 98900 33006, +91 98905 99517, +91 98906 91021, +91 98909 04666, +91 99204 12017, +91 99210 99999, +91 99231 15501, +91 99602 85701, +91 99604 73549, and +91 99700 23253\\n',\n",
       " \"Jain Internet Services changed this group's icon\\n\",\n",
       " 'Jain Internet Services added +91 93250 84880\\n',\n",
       " 'Jain Internet Services added +91 95118 38375\\n',\n",
       " '+91\\xa074149\\xa023026 changed to +91\\xa084828\\xa079291\\n',\n",
       " 'Jain Internet Services: SARFA, HOLI, LINE BAND HAI CHALU HO JAYEGI PLZ Co-Operate\\n',\n",
       " 'Jain Internet Services: PADMJA CITY LINE BAND HAI  CHALU HO JAYEGI PLZ Co-Operate\\n',\n",
       " 'Jain Internet Services: BHAUSAR CHOWK,MALEGAON ROAD , CHATRAPTI CHOWK , BAJAJ NAGAR, CANAL ROAD,DEEP KI LINEWORKSHOP CORNER,  ALL LINE BAND HAI. CHALU HO JAYEGA PLZ  Co-Operate🙏\\n',\n",
       " 'Jain Internet Services: SANGVI CHAINTYNA NAGAR, ASNA , GOPAL NAGA, SANGVI LINE BAND HAI PLZ CO-OPERATE CHALU HO JAYEGI🙏 <This message was edited>\\n',\n",
       " 'Jain Internet Services: internet link down hai chalu hone me thda time lagega plz co-operate\\n',\n",
       " 'Jain Internet Services: chalu zal\\n',\n",
       " 'Jain Internet Services: Ucn Link up ho gayi please chack...\\n',\n",
       " 'Jain Internet Services: PADMJA CITY KI LINE BAND HAI.\\n',\n",
       " 'Jain Internet Services: kal Ganesh visarjan k kran fiber brek hui hai uske wajah se line band hai....chalu ho jaygi plz co-operate <This message was edited>\\n',\n",
       " 'Jain Internet Services added +91 70204 97576, +91 70669 02318, +91 72764 51956, +91 72765 72758, +91 75079 15576, +91 75585 59444, +91 75887 70973, +91 77198 13316, +91 77219 17190, +91 80873 02430, +91 84840 41385, +91 86230 95887, +91 86685 99494, +91 88303 40629, +91 88888 45640, +91 93097 19368, +91 93702 81341, +91 94048 89868, +91 94204 51839, +91 94221 73095, +91 94221 88484, +91 94224 30899, +91 94228 71365, +91 97661 99806, +91 97662 63336, +91 98233 77706, +91 98238 81328, +91 98813 65753, +91 99210 43000, and +91 99308 70044\\n',\n",
       " 'Jain Internet Services added +91 88303 15321\\n',\n",
       " 'Jain Internet Services added +91 99709 94466\\n',\n",
       " 'Jain Internet Services removed +91 94204 32786\\n',\n",
       " 'Jain Internet Services removed +91 77220 50658\\n',\n",
       " 'Jain Internet Services removed +91 74996 09073\\n',\n",
       " 'Jain Internet Services removed +91 94221 49789\\n',\n",
       " 'Jain Internet Services: ANAND NAGAR, BHAGYA NAGAR,GOPAL NAGAR,CHAITNYA NAGAR,BHAUSAR CHOWK,CANAL ROAD, LINE BAND HAI. CAHU HO JAYEGI PLZ-COPERATE 🙏🙏 <This message was edited>\\n',\n",
       " 'Jain Saheb Bharat Fiber removed +91 98901 46019\\n',\n",
       " 'Jain Saheb Bharat Fiber removed +91 91757 73508\\n',\n",
       " 'Jain Saheb Bharat Fiber removed +91 98504 08860\\n',\n",
       " 'Jain Saheb Bharat Fiber removed +91 88883 54844\\n',\n",
       " 'Jain Internet Services: ANAND NAGAR, BHAGYA NAGAR, PORNIMA NAGAR,CANAL ROAD, CHAITNYA NAGAR,DE MART,MALEGAON ROAD BHAUSAR CHOWK, WORKSHOP,  LINE  BAND HAI. CHALU Hone ,me time lagega but ho jayega PLZ -CO OPRATE\\n',\n",
       " 'Jain Internet Services: SANGAVI, BHAUSAR CHOWK, MALEGAON ROAD,CANAL ROAD,D-MART, LINE BNAD HAI. PLZ CO-OPERATE <This message was edited>\\n',\n",
       " '+91 88889 07062: Please check now....\\n',\n",
       " 'Jain Internet Services: padmja city line band hai plz co-operate\\n',\n",
       " '+91 88889 07062: Please check internet...\\n',\n",
       " 'Jain Internet Services: This message was deleted\\n',\n",
       " 'Jain Internet Services: <Media omitted>\\n',\n",
       " 'Jain Internet Services: VAZIRABAD SE LEKAR KAUTHA, LATUR FATA, CIDCO-HUDCO ,TAK LINE BAND HAI PLZ CO-OPERATE🙏\\n',\n",
       " '+91 79727 57472: Bridge par wire jal gaya \\nChange kare wo log \\n\\n1 hour lagenga \\n\\nPlease\\n',\n",
       " '+91 79727 57472: Please check line is OK now\\n\\nCidco, Hadco, Latur Fata, Kautha\\n']"
      ]
     },
     "execution_count": 12,
     "metadata": {},
     "output_type": "execute_result"
    }
   ],
   "source": [
    "messages"
   ]
  },
  {
   "cell_type": "code",
   "execution_count": 11,
   "metadata": {},
   "outputs": [
    {
     "data": {
      "text/plain": [
       "['8/25/23, 19:33 - ',\n",
       " '8/8/23, 15:58 - ',\n",
       " '8/25/23, 19:33 - ',\n",
       " '8/25/23, 19:56 - ',\n",
       " '8/25/23, 19:57 - ',\n",
       " '9/15/23, 10:46 - ',\n",
       " '9/15/23, 11:08 - ',\n",
       " '9/16/23, 15:52 - ',\n",
       " '9/16/23, 18:06 - ',\n",
       " '9/16/23, 20:03 - ',\n",
       " '9/17/23, 18:38 - ',\n",
       " '9/18/23, 15:46 - ',\n",
       " '9/18/23, 15:46 - ',\n",
       " '9/18/23, 15:46 - ',\n",
       " '9/18/23, 15:46 - ',\n",
       " '9/18/23, 15:46 - ',\n",
       " '9/18/23, 15:46 - ',\n",
       " '9/18/23, 15:46 - ',\n",
       " '9/18/23, 15:46 - ',\n",
       " '9/18/23, 15:46 - ',\n",
       " '9/18/23, 15:53 - ',\n",
       " '9/18/23, 15:53 - ',\n",
       " '9/18/23, 15:59 - ',\n",
       " '9/18/23, 16:01 - ',\n",
       " '9/18/23, 22:36 - ',\n",
       " '9/19/23, 16:31 - ',\n",
       " '9/20/23, 11:39 - ',\n",
       " '9/20/23, 11:48 - ',\n",
       " '9/20/23, 12:23 - ',\n",
       " '9/20/23, 14:34 - ',\n",
       " '9/26/23, 15:31 - ',\n",
       " '9/26/23, 15:47 - ',\n",
       " '9/26/23, 15:55 - ',\n",
       " '9/29/23, 10:14 - ',\n",
       " '9/29/23, 10:37 - ',\n",
       " '9/29/23, 11:36 - ',\n",
       " '9/29/23, 13:13 - ',\n",
       " '9/29/23, 14:15 - ',\n",
       " '10/1/23, 14:54 - ',\n",
       " '10/1/23, 15:10 - ',\n",
       " '10/1/23, 15:16 - ',\n",
       " '10/1/23, 15:16 - ',\n",
       " '10/3/23, 13:44 - ',\n",
       " '10/3/23, 17:09 - ',\n",
       " '10/3/23, 17:10 - ',\n",
       " '10/3/23, 17:13 - ',\n",
       " '10/3/23, 17:17 - ',\n",
       " '10/5/23, 11:05 - ',\n",
       " '10/31/23, 12:29 - ',\n",
       " '10/31/23, 14:03 - ',\n",
       " '10/31/23, 14:42 - ',\n",
       " '10/31/23, 16:46 - ',\n",
       " '11/13/23, 12:23 - ',\n",
       " '11/13/23, 12:26 - ',\n",
       " '11/14/23, 11:21 - ',\n",
       " '11/14/23, 11:23 - ',\n",
       " '11/14/23, 12:15 - ']"
      ]
     },
     "execution_count": 11,
     "metadata": {},
     "output_type": "execute_result"
    }
   ],
   "source": [
    "dates = re.findall(pattern, data)\n",
    "dates"
   ]
  },
  {
   "cell_type": "code",
   "execution_count": 15,
   "metadata": {},
   "outputs": [
    {
     "data": {
      "text/html": [
       "<div>\n",
       "<style scoped>\n",
       "    .dataframe tbody tr th:only-of-type {\n",
       "        vertical-align: middle;\n",
       "    }\n",
       "\n",
       "    .dataframe tbody tr th {\n",
       "        vertical-align: top;\n",
       "    }\n",
       "\n",
       "    .dataframe thead th {\n",
       "        text-align: right;\n",
       "    }\n",
       "</style>\n",
       "<table border=\"1\" class=\"dataframe\">\n",
       "  <thead>\n",
       "    <tr style=\"text-align: right;\">\n",
       "      <th></th>\n",
       "      <th>user_message</th>\n",
       "      <th>date</th>\n",
       "    </tr>\n",
       "  </thead>\n",
       "  <tbody>\n",
       "    <tr>\n",
       "      <th>0</th>\n",
       "      <td>Messages and calls are end-to-end encrypted. N...</td>\n",
       "      <td>2023-08-25 19:33:00</td>\n",
       "    </tr>\n",
       "    <tr>\n",
       "      <th>1</th>\n",
       "      <td>Jain Internet Services created group \"Jain Int...</td>\n",
       "      <td>2023-08-08 15:58:00</td>\n",
       "    </tr>\n",
       "    <tr>\n",
       "      <th>2</th>\n",
       "      <td>Jain Internet Services added you\\n</td>\n",
       "      <td>2023-08-25 19:33:00</td>\n",
       "    </tr>\n",
       "    <tr>\n",
       "      <th>3</th>\n",
       "      <td>Jain Internet Services added +91 97686 86859\\n</td>\n",
       "      <td>2023-08-25 19:56:00</td>\n",
       "    </tr>\n",
       "    <tr>\n",
       "      <th>4</th>\n",
       "      <td>Jain Internet Services added +91 96733 85550\\n</td>\n",
       "      <td>2023-08-25 19:57:00</td>\n",
       "    </tr>\n",
       "  </tbody>\n",
       "</table>\n",
       "</div>"
      ],
      "text/plain": [
       "                                        user_message                date\n",
       "0  Messages and calls are end-to-end encrypted. N... 2023-08-25 19:33:00\n",
       "1  Jain Internet Services created group \"Jain Int... 2023-08-08 15:58:00\n",
       "2                 Jain Internet Services added you\\n 2023-08-25 19:33:00\n",
       "3     Jain Internet Services added +91 97686 86859\\n 2023-08-25 19:56:00\n",
       "4     Jain Internet Services added +91 96733 85550\\n 2023-08-25 19:57:00"
      ]
     },
     "execution_count": 15,
     "metadata": {},
     "output_type": "execute_result"
    }
   ],
   "source": [
    "df = pd.DataFrame({'user_message':messages, 'message_date':dates})\n",
    "df['message_date'] = pd.to_datetime(df['message_date'], format=\"%m/%d/%y, %H:%M - \")\n",
    "df.rename(columns={'message_date': 'date'}, inplace=True)\n",
    "df.head()"
   ]
  },
  {
   "cell_type": "code",
   "execution_count": 16,
   "metadata": {},
   "outputs": [
    {
     "data": {
      "text/plain": [
       "(57, 2)"
      ]
     },
     "execution_count": 16,
     "metadata": {},
     "output_type": "execute_result"
    }
   ],
   "source": [
    "df.shape"
   ]
  },
  {
   "cell_type": "code",
   "execution_count": 19,
   "metadata": {},
   "outputs": [
    {
     "data": {
      "text/html": [
       "<div>\n",
       "<style scoped>\n",
       "    .dataframe tbody tr th:only-of-type {\n",
       "        vertical-align: middle;\n",
       "    }\n",
       "\n",
       "    .dataframe tbody tr th {\n",
       "        vertical-align: top;\n",
       "    }\n",
       "\n",
       "    .dataframe thead th {\n",
       "        text-align: right;\n",
       "    }\n",
       "</style>\n",
       "<table border=\"1\" class=\"dataframe\">\n",
       "  <thead>\n",
       "    <tr style=\"text-align: right;\">\n",
       "      <th></th>\n",
       "      <th>date</th>\n",
       "      <th>user</th>\n",
       "      <th>message</th>\n",
       "    </tr>\n",
       "  </thead>\n",
       "  <tbody>\n",
       "    <tr>\n",
       "      <th>0</th>\n",
       "      <td>2023-08-25 19:33:00</td>\n",
       "      <td>group_notification</td>\n",
       "      <td>Messages and calls are end-to-end encrypted. N...</td>\n",
       "    </tr>\n",
       "    <tr>\n",
       "      <th>1</th>\n",
       "      <td>2023-08-08 15:58:00</td>\n",
       "      <td>group_notification</td>\n",
       "      <td>Jain Internet Services created group \"Jain Int...</td>\n",
       "    </tr>\n",
       "    <tr>\n",
       "      <th>2</th>\n",
       "      <td>2023-08-25 19:33:00</td>\n",
       "      <td>group_notification</td>\n",
       "      <td>Jain Internet Services added you\\n</td>\n",
       "    </tr>\n",
       "    <tr>\n",
       "      <th>3</th>\n",
       "      <td>2023-08-25 19:56:00</td>\n",
       "      <td>group_notification</td>\n",
       "      <td>Jain Internet Services added +91 97686 86859\\n</td>\n",
       "    </tr>\n",
       "    <tr>\n",
       "      <th>4</th>\n",
       "      <td>2023-08-25 19:57:00</td>\n",
       "      <td>group_notification</td>\n",
       "      <td>Jain Internet Services added +91 96733 85550\\n</td>\n",
       "    </tr>\n",
       "  </tbody>\n",
       "</table>\n",
       "</div>"
      ],
      "text/plain": [
       "                 date                user  \\\n",
       "0 2023-08-25 19:33:00  group_notification   \n",
       "1 2023-08-08 15:58:00  group_notification   \n",
       "2 2023-08-25 19:33:00  group_notification   \n",
       "3 2023-08-25 19:56:00  group_notification   \n",
       "4 2023-08-25 19:57:00  group_notification   \n",
       "\n",
       "                                             message  \n",
       "0  Messages and calls are end-to-end encrypted. N...  \n",
       "1  Jain Internet Services created group \"Jain Int...  \n",
       "2                 Jain Internet Services added you\\n  \n",
       "3     Jain Internet Services added +91 97686 86859\\n  \n",
       "4     Jain Internet Services added +91 96733 85550\\n  "
      ]
     },
     "execution_count": 19,
     "metadata": {},
     "output_type": "execute_result"
    }
   ],
   "source": [
    "users = []\n",
    "messages = []\n",
    "for message in df['user_message']:\n",
    "    entry = re.split('([\\w\\W]+?):\\s', message)\n",
    "    if entry[1:]:  # user name\n",
    "        users.append(entry[1])\n",
    "        messages.append(\" \".join(entry[2:]))\n",
    "    else:\n",
    "        users.append('group_notification')\n",
    "        messages.append(entry[0])\n",
    "\n",
    "df['user'] = users\n",
    "df['message'] = messages\n",
    "df.drop(columns=['user_message'], inplace=True)\n",
    "df.head()\n"
   ]
  },
  {
   "cell_type": "code",
   "execution_count": 20,
   "metadata": {},
   "outputs": [
    {
     "data": {
      "text/plain": [
       "(57, 3)"
      ]
     },
     "execution_count": 20,
     "metadata": {},
     "output_type": "execute_result"
    }
   ],
   "source": [
    "df.shape"
   ]
  },
  {
   "cell_type": "code",
   "execution_count": 23,
   "metadata": {},
   "outputs": [
    {
     "data": {
      "text/plain": [
       "0     2023\n",
       "1     2023\n",
       "2     2023\n",
       "3     2023\n",
       "4     2023\n",
       "5     2023\n",
       "6     2023\n",
       "7     2023\n",
       "8     2023\n",
       "9     2023\n",
       "10    2023\n",
       "11    2023\n",
       "12    2023\n",
       "13    2023\n",
       "14    2023\n",
       "15    2023\n",
       "16    2023\n",
       "17    2023\n",
       "18    2023\n",
       "19    2023\n",
       "20    2023\n",
       "21    2023\n",
       "22    2023\n",
       "23    2023\n",
       "24    2023\n",
       "25    2023\n",
       "26    2023\n",
       "27    2023\n",
       "28    2023\n",
       "29    2023\n",
       "30    2023\n",
       "31    2023\n",
       "32    2023\n",
       "33    2023\n",
       "34    2023\n",
       "35    2023\n",
       "36    2023\n",
       "37    2023\n",
       "38    2023\n",
       "39    2023\n",
       "40    2023\n",
       "41    2023\n",
       "42    2023\n",
       "43    2023\n",
       "44    2023\n",
       "45    2023\n",
       "46    2023\n",
       "47    2023\n",
       "48    2023\n",
       "49    2023\n",
       "50    2023\n",
       "51    2023\n",
       "52    2023\n",
       "53    2023\n",
       "54    2023\n",
       "55    2023\n",
       "56    2023\n",
       "Name: date, dtype: int32"
      ]
     },
     "execution_count": 23,
     "metadata": {},
     "output_type": "execute_result"
    }
   ],
   "source": [
    "df['date'].dt.year\n",
    "    \n"
   ]
  },
  {
   "cell_type": "code",
   "execution_count": 22,
   "metadata": {},
   "outputs": [
    {
     "data": {
      "text/plain": [
       "0     Messages and calls are end-to-end encrypted. N...\n",
       "1     Jain Internet Services created group \"Jain Int...\n",
       "2                    Jain Internet Services added you\\n\n",
       "3        Jain Internet Services added +91 97686 86859\\n\n",
       "4        Jain Internet Services added +91 96733 85550\\n\n",
       "5     FULE MARKET SE LEKAR Y POINT TAK LINE BAND HAI...\n",
       "6                       LINE CHALU HO GAYI PLZ CHECK🙏\\n\n",
       "7     BHAUSAR CHOWK KI LINE BAND HAI THODA TIME LGEG...\n",
       "8     BHAUSAR CHOWK,MALEGAON ROAD , CHATRAPTI CHOWK ...\n",
       "9                                            Okay 👍👍👍\\n\n",
       "10    NEW MONDHA,NAMSKARCHOWK ,SINDHI COLONY,BAFNA,K...\n",
       "11              +91 94221 73095 added +91 74996 09073\\n\n",
       "12              +91 94221 73095 added +91 77220 50658\\n\n",
       "13              +91 94221 73095 added +91 91757 73508\\n\n",
       "14              +91 94221 73095 added +91 94204 32786\\n\n",
       "15              +91 94221 73095 added +91 94221 49789\\n\n",
       "16              +91 94221 73095 added +91 95453 44540\\n\n",
       "17              +91 94221 73095 added +91 97649 21717\\n\n",
       "18              +91 94221 73095 added +91 97664 16991\\n\n",
       "19              +91 94221 73095 added +91 98504 08860\\n\n",
       "20    This group has over 256 participants so now on...\n",
       "21    Jain Internet Services added +91 6366 966 909,...\n",
       "22    Jain Internet Services changed this group's ic...\n",
       "23       Jain Internet Services added +91 93250 84880\\n\n",
       "24       Jain Internet Services added +91 95118 38375\\n\n",
       "25         +91 74149 23026 changed to +91 84828 79291\\n\n",
       "26    SARFA, HOLI, LINE BAND HAI CHALU HO JAYEGI PLZ...\n",
       "27    PADMJA CITY LINE BAND HAI  CHALU HO JAYEGI PLZ...\n",
       "28    BHAUSAR CHOWK,MALEGAON ROAD , CHATRAPTI CHOWK ...\n",
       "29    SANGVI CHAINTYNA NAGAR, ASNA , GOPAL NAGA, SAN...\n",
       "30    internet link down hai chalu hone me thda time...\n",
       "31                                          chalu zal\\n\n",
       "32                Ucn Link up ho gayi please chack...\\n\n",
       "33                      PADMJA CITY KI LINE BAND HAI.\\n\n",
       "34    kal Ganesh visarjan k kran fiber brek hui hai ...\n",
       "35    Jain Internet Services added +91 70204 97576, ...\n",
       "36       Jain Internet Services added +91 88303 15321\\n\n",
       "37       Jain Internet Services added +91 99709 94466\\n\n",
       "38     Jain Internet Services removed +91 94204 32786\\n\n",
       "39     Jain Internet Services removed +91 77220 50658\\n\n",
       "40     Jain Internet Services removed +91 74996 09073\\n\n",
       "41     Jain Internet Services removed +91 94221 49789\\n\n",
       "42    ANAND NAGAR, BHAGYA NAGAR,GOPAL NAGAR,CHAITNYA...\n",
       "43    Jain Saheb Bharat Fiber removed +91 98901 46019\\n\n",
       "44    Jain Saheb Bharat Fiber removed +91 91757 73508\\n\n",
       "45    Jain Saheb Bharat Fiber removed +91 98504 08860\\n\n",
       "46    Jain Saheb Bharat Fiber removed +91 88883 54844\\n\n",
       "47    ANAND NAGAR, BHAGYA NAGAR, PORNIMA NAGAR,CANAL...\n",
       "48    SANGAVI, BHAUSAR CHOWK, MALEGAON ROAD,CANAL RO...\n",
       "49                               Please check now....\\n\n",
       "50           padmja city line band hai plz co-operate\\n\n",
       "51                           Please check internet...\\n\n",
       "52                           This message was deleted\\n\n",
       "53                                    <Media omitted>\\n\n",
       "54    VAZIRABAD SE LEKAR KAUTHA, LATUR FATA, CIDCO-H...\n",
       "55    Bridge par wire jal gaya \\nChange kare wo log ...\n",
       "56    Please check line is OK now\\n\\nCidco, Hadco, L...\n",
       "Name: message, dtype: object"
      ]
     },
     "execution_count": 22,
     "metadata": {},
     "output_type": "execute_result"
    }
   ],
   "source": [
    "df['message']"
   ]
  },
  {
   "cell_type": "code",
   "execution_count": 24,
   "metadata": {},
   "outputs": [
    {
     "data": {
      "text/html": [
       "<div>\n",
       "<style scoped>\n",
       "    .dataframe tbody tr th:only-of-type {\n",
       "        vertical-align: middle;\n",
       "    }\n",
       "\n",
       "    .dataframe tbody tr th {\n",
       "        vertical-align: top;\n",
       "    }\n",
       "\n",
       "    .dataframe thead th {\n",
       "        text-align: right;\n",
       "    }\n",
       "</style>\n",
       "<table border=\"1\" class=\"dataframe\">\n",
       "  <thead>\n",
       "    <tr style=\"text-align: right;\">\n",
       "      <th></th>\n",
       "      <th>date</th>\n",
       "      <th>user</th>\n",
       "      <th>message</th>\n",
       "      <th>only_date</th>\n",
       "      <th>year</th>\n",
       "      <th>month_num</th>\n",
       "      <th>month</th>\n",
       "      <th>day</th>\n",
       "      <th>day_name</th>\n",
       "      <th>hour</th>\n",
       "      <th>minute</th>\n",
       "    </tr>\n",
       "  </thead>\n",
       "  <tbody>\n",
       "    <tr>\n",
       "      <th>0</th>\n",
       "      <td>2023-08-25 19:33:00</td>\n",
       "      <td>group_notification</td>\n",
       "      <td>Messages and calls are end-to-end encrypted. N...</td>\n",
       "      <td>2023-08-25</td>\n",
       "      <td>2023</td>\n",
       "      <td>8</td>\n",
       "      <td>August</td>\n",
       "      <td>25</td>\n",
       "      <td>Friday</td>\n",
       "      <td>19</td>\n",
       "      <td>33</td>\n",
       "    </tr>\n",
       "    <tr>\n",
       "      <th>1</th>\n",
       "      <td>2023-08-08 15:58:00</td>\n",
       "      <td>group_notification</td>\n",
       "      <td>Jain Internet Services created group \"Jain Int...</td>\n",
       "      <td>2023-08-08</td>\n",
       "      <td>2023</td>\n",
       "      <td>8</td>\n",
       "      <td>August</td>\n",
       "      <td>8</td>\n",
       "      <td>Tuesday</td>\n",
       "      <td>15</td>\n",
       "      <td>58</td>\n",
       "    </tr>\n",
       "    <tr>\n",
       "      <th>2</th>\n",
       "      <td>2023-08-25 19:33:00</td>\n",
       "      <td>group_notification</td>\n",
       "      <td>Jain Internet Services added you\\n</td>\n",
       "      <td>2023-08-25</td>\n",
       "      <td>2023</td>\n",
       "      <td>8</td>\n",
       "      <td>August</td>\n",
       "      <td>25</td>\n",
       "      <td>Friday</td>\n",
       "      <td>19</td>\n",
       "      <td>33</td>\n",
       "    </tr>\n",
       "    <tr>\n",
       "      <th>3</th>\n",
       "      <td>2023-08-25 19:56:00</td>\n",
       "      <td>group_notification</td>\n",
       "      <td>Jain Internet Services added +91 97686 86859\\n</td>\n",
       "      <td>2023-08-25</td>\n",
       "      <td>2023</td>\n",
       "      <td>8</td>\n",
       "      <td>August</td>\n",
       "      <td>25</td>\n",
       "      <td>Friday</td>\n",
       "      <td>19</td>\n",
       "      <td>56</td>\n",
       "    </tr>\n",
       "    <tr>\n",
       "      <th>4</th>\n",
       "      <td>2023-08-25 19:57:00</td>\n",
       "      <td>group_notification</td>\n",
       "      <td>Jain Internet Services added +91 96733 85550\\n</td>\n",
       "      <td>2023-08-25</td>\n",
       "      <td>2023</td>\n",
       "      <td>8</td>\n",
       "      <td>August</td>\n",
       "      <td>25</td>\n",
       "      <td>Friday</td>\n",
       "      <td>19</td>\n",
       "      <td>57</td>\n",
       "    </tr>\n",
       "  </tbody>\n",
       "</table>\n",
       "</div>"
      ],
      "text/plain": [
       "                 date                user  \\\n",
       "0 2023-08-25 19:33:00  group_notification   \n",
       "1 2023-08-08 15:58:00  group_notification   \n",
       "2 2023-08-25 19:33:00  group_notification   \n",
       "3 2023-08-25 19:56:00  group_notification   \n",
       "4 2023-08-25 19:57:00  group_notification   \n",
       "\n",
       "                                             message   only_date  year  \\\n",
       "0  Messages and calls are end-to-end encrypted. N...  2023-08-25  2023   \n",
       "1  Jain Internet Services created group \"Jain Int...  2023-08-08  2023   \n",
       "2                 Jain Internet Services added you\\n  2023-08-25  2023   \n",
       "3     Jain Internet Services added +91 97686 86859\\n  2023-08-25  2023   \n",
       "4     Jain Internet Services added +91 96733 85550\\n  2023-08-25  2023   \n",
       "\n",
       "   month_num   month  day day_name  hour  minute  \n",
       "0          8  August   25   Friday    19      33  \n",
       "1          8  August    8  Tuesday    15      58  \n",
       "2          8  August   25   Friday    19      33  \n",
       "3          8  August   25   Friday    19      56  \n",
       "4          8  August   25   Friday    19      57  "
      ]
     },
     "execution_count": 24,
     "metadata": {},
     "output_type": "execute_result"
    }
   ],
   "source": [
    "df['only_date'] = df['date'].dt.date\n",
    "df['year'] = df['date'].dt.year\n",
    "df['month_num'] = df['date'].dt.month\n",
    "df['month'] = df['date'].dt.month_name()\n",
    "df['day'] = df['date'].dt.day\n",
    "df['day_name'] = df['date'].dt.day_name()\n",
    "df['hour'] = df['date'].dt.hour\n",
    "df['minute'] = df['date'].dt.minute\n",
    "df.head()"
   ]
  },
  {
   "cell_type": "code",
   "execution_count": 25,
   "metadata": {},
   "outputs": [],
   "source": [
    "import emoji"
   ]
  },
  {
   "cell_type": "code",
   "execution_count": 29,
   "metadata": {},
   "outputs": [
    {
     "ename": "AttributeError",
     "evalue": "module 'emoji' has no attribute 'UNICODE_EMOJI'",
     "output_type": "error",
     "traceback": [
      "\u001b[1;31m---------------------------------------------------------------------------\u001b[0m",
      "\u001b[1;31mAttributeError\u001b[0m                            Traceback (most recent call last)",
      "\u001b[1;32me:\\ML-Projects\\whatsapp-chat-analysis\\whatsapp-chat-analysis.ipynb Cell 17\u001b[0m line \u001b[0;36m3\n\u001b[0;32m      <a href='vscode-notebook-cell:/e%3A/ML-Projects/whatsapp-chat-analysis/whatsapp-chat-analysis.ipynb#X22sZmlsZQ%3D%3D?line=0'>1</a>\u001b[0m emojis \u001b[39m=\u001b[39m []\n\u001b[0;32m      <a href='vscode-notebook-cell:/e%3A/ML-Projects/whatsapp-chat-analysis/whatsapp-chat-analysis.ipynb#X22sZmlsZQ%3D%3D?line=1'>2</a>\u001b[0m \u001b[39mfor\u001b[39;00m message \u001b[39min\u001b[39;00m df[\u001b[39m'\u001b[39m\u001b[39mmessage\u001b[39m\u001b[39m'\u001b[39m]:\n\u001b[1;32m----> <a href='vscode-notebook-cell:/e%3A/ML-Projects/whatsapp-chat-analysis/whatsapp-chat-analysis.ipynb#X22sZmlsZQ%3D%3D?line=2'>3</a>\u001b[0m     emojis\u001b[39m.\u001b[39mextend([c \u001b[39mfor\u001b[39;00m c \u001b[39min\u001b[39;00m message \u001b[39mif\u001b[39;00m c \u001b[39min\u001b[39;00m emoji\u001b[39m.\u001b[39mUNICODE_EMOJI[\u001b[39m'\u001b[39m\u001b[39men\u001b[39m\u001b[39m'\u001b[39m]])\n",
      "\u001b[1;32me:\\ML-Projects\\whatsapp-chat-analysis\\whatsapp-chat-analysis.ipynb Cell 17\u001b[0m line \u001b[0;36m3\n\u001b[0;32m      <a href='vscode-notebook-cell:/e%3A/ML-Projects/whatsapp-chat-analysis/whatsapp-chat-analysis.ipynb#X22sZmlsZQ%3D%3D?line=0'>1</a>\u001b[0m emojis \u001b[39m=\u001b[39m []\n\u001b[0;32m      <a href='vscode-notebook-cell:/e%3A/ML-Projects/whatsapp-chat-analysis/whatsapp-chat-analysis.ipynb#X22sZmlsZQ%3D%3D?line=1'>2</a>\u001b[0m \u001b[39mfor\u001b[39;00m message \u001b[39min\u001b[39;00m df[\u001b[39m'\u001b[39m\u001b[39mmessage\u001b[39m\u001b[39m'\u001b[39m]:\n\u001b[1;32m----> <a href='vscode-notebook-cell:/e%3A/ML-Projects/whatsapp-chat-analysis/whatsapp-chat-analysis.ipynb#X22sZmlsZQ%3D%3D?line=2'>3</a>\u001b[0m     emojis\u001b[39m.\u001b[39mextend([c \u001b[39mfor\u001b[39;00m c \u001b[39min\u001b[39;00m message \u001b[39mif\u001b[39;00m c \u001b[39min\u001b[39;00m emoji\u001b[39m.\u001b[39;49mUNICODE_EMOJI[\u001b[39m'\u001b[39m\u001b[39men\u001b[39m\u001b[39m'\u001b[39m]])\n",
      "\u001b[1;31mAttributeError\u001b[0m: module 'emoji' has no attribute 'UNICODE_EMOJI'"
     ]
    }
   ],
   "source": [
    "emojis = []\n",
    "for message in df['message']:\n",
    "    emojis.extend([c for c in message if c in emoji.UNICODE_EMOJI['en']])"
   ]
  },
  {
   "cell_type": "code",
   "execution_count": 27,
   "metadata": {},
   "outputs": [
    {
     "name": "stdout",
     "output_type": "stream",
     "text": [
      "Requirement already satisfied: emoji in e:\\ml-projects\\whatsapp-chat-analysis\\venv\\lib\\site-packages (2.8.0)\n",
      "Note: you may need to restart the kernel to use updated packages.\n"
     ]
    },
    {
     "name": "stderr",
     "output_type": "stream",
     "text": [
      "WARNING: You are using pip version 21.1.1; however, version 23.3.1 is available.\n",
      "You should consider upgrading via the 'e:\\ML-Projects\\whatsapp-chat-analysis\\venv\\Scripts\\python.exe -m pip install --upgrade pip' command.\n"
     ]
    }
   ],
   "source": [
    "pip install emoji"
   ]
  },
  {
   "cell_type": "code",
   "execution_count": null,
   "metadata": {},
   "outputs": [],
   "source": []
  }
 ],
 "metadata": {
  "kernelspec": {
   "display_name": "venv",
   "language": "python",
   "name": "python3"
  },
  "language_info": {
   "codemirror_mode": {
    "name": "ipython",
    "version": 3
   },
   "file_extension": ".py",
   "mimetype": "text/x-python",
   "name": "python",
   "nbconvert_exporter": "python",
   "pygments_lexer": "ipython3",
   "version": "3.9.5"
  }
 },
 "nbformat": 4,
 "nbformat_minor": 2
}
